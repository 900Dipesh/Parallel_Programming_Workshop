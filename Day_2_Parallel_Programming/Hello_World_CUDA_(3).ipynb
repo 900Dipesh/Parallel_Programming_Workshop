{
  "nbformat": 4,
  "nbformat_minor": 0,
  "metadata": {
    "colab": {
      "provenance": [],
      "gpuType": "T4"
    },
    "kernelspec": {
      "name": "python3",
      "display_name": "Python 3"
    },
    "language_info": {
      "name": "python"
    },
    "accelerator": "GPU"
  },
  "cells": [
    {
      "cell_type": "code",
      "execution_count": null,
      "metadata": {
        "colab": {
          "base_uri": "https://localhost:8080/"
        },
        "id": "g1N7PPF6ujXE",
        "outputId": "f1c339b1-b821-46fb-b451-3b3716c0d48d"
      },
      "outputs": [
        {
          "output_type": "stream",
          "name": "stdout",
          "text": [
            "Tue Jun 17 04:50:10 2025       \n",
            "+-----------------------------------------------------------------------------------------+\n",
            "| NVIDIA-SMI 550.54.15              Driver Version: 550.54.15      CUDA Version: 12.4     |\n",
            "|-----------------------------------------+------------------------+----------------------+\n",
            "| GPU  Name                 Persistence-M | Bus-Id          Disp.A | Volatile Uncorr. ECC |\n",
            "| Fan  Temp   Perf          Pwr:Usage/Cap |           Memory-Usage | GPU-Util  Compute M. |\n",
            "|                                         |                        |               MIG M. |\n",
            "|=========================================+========================+======================|\n",
            "|   0  Tesla T4                       Off |   00000000:00:04.0 Off |                    0 |\n",
            "| N/A   49C    P8             10W /   70W |       0MiB /  15360MiB |      0%      Default |\n",
            "|                                         |                        |                  N/A |\n",
            "+-----------------------------------------+------------------------+----------------------+\n",
            "                                                                                         \n",
            "+-----------------------------------------------------------------------------------------+\n",
            "| Processes:                                                                              |\n",
            "|  GPU   GI   CI        PID   Type   Process name                              GPU Memory |\n",
            "|        ID   ID                                                               Usage      |\n",
            "|=========================================================================================|\n",
            "|  No running processes found                                                             |\n",
            "+-----------------------------------------------------------------------------------------+\n"
          ]
        }
      ],
      "source": [
        "!nvidia-smi"
      ]
    },
    {
      "cell_type": "code",
      "source": [
        "%%writefile matMult.cu\n",
        "#include <iostream>\n",
        "#include <chrono>\n",
        "#include <cuda_runtime.h>\n",
        "\n",
        "#define N 2000\n",
        "\n",
        "// CUDA kernel for matrix multiplication\n",
        "__global__ void matrixMulCUDA(float* A, float* B, float* C, int width) {\n",
        "    int row = blockIdx.y * blockDim.y + threadIdx.y;\n",
        "    int col = blockIdx.x * blockDim.x + threadIdx.x;\n",
        "\n",
        "    if(row < width && col < width) {\n",
        "        float sum = 0.0f;\n",
        "        for(int k = 0; k < width; ++k)\n",
        "            sum += A[row * width + k] * B[k * width + col];\n",
        "        C[row * width + col] = sum;\n",
        "    }\n",
        "}\n",
        "\n",
        "// Sequential matrix multiplication\n",
        "void matrixMulCPU(const float* A, const float* B, float* C, int width) {\n",
        "    for(int i = 0; i < width; ++i) {\n",
        "        for(int j = 0; j < width; ++j) {\n",
        "            float sum = 0.0f;\n",
        "            for(int k = 0; k < width; ++k)\n",
        "                sum += A[i * width + k] * B[k * width + j];\n",
        "            C[i * width + j] = sum;\n",
        "        }\n",
        "    }\n",
        "}\n",
        "\n",
        "int main() {\n",
        "    size_t bytes = N * N * sizeof(float);\n",
        "\n",
        "    // Allocate host memory\n",
        "    float* h_A = (float*)malloc(bytes);\n",
        "    float* h_B = (float*)malloc(bytes);\n",
        "    float* h_C_cpu = (float*)malloc(bytes);\n",
        "    float* h_C_gpu = (float*)malloc(bytes);\n",
        "\n",
        "    // Initialize matrices\n",
        "    for(int i = 0; i < N * N; ++i) {\n",
        "        h_A[i] = 1.0f;\n",
        "        h_B[i] = 2.0f;\n",
        "    }\n",
        "\n",
        "    // ----------- CPU Execution ------------\n",
        "    std::cout << \"Running CPU matrix multiplication...\" << std::endl;\n",
        "    auto start_cpu = std::chrono::high_resolution_clock::now();\n",
        "    matrixMulCPU(h_A, h_B, h_C_cpu, N);\n",
        "    auto end_cpu = std::chrono::high_resolution_clock::now();\n",
        "    std::chrono::duration<double> cpu_time = end_cpu - start_cpu;\n",
        "    std::cout << \"CPU time: \" << cpu_time.count() << \" seconds\\n\";\n",
        "\n",
        "    // ----------- GPU Execution ------------\n",
        "    std::cout << \"Running GPU matrix multiplication...\" << std::endl;\n",
        "\n",
        "    // Allocate device memory\n",
        "    float *d_A, *d_B, *d_C;\n",
        "    cudaMalloc(&d_A, bytes);\n",
        "    cudaMalloc(&d_B, bytes);\n",
        "    cudaMalloc(&d_C, bytes);\n",
        "\n",
        "    // Copy input data to device\n",
        "    cudaMemcpy(d_A, h_A, bytes, cudaMemcpyHostToDevice);\n",
        "    cudaMemcpy(d_B, h_B, bytes, cudaMemcpyHostToDevice);\n",
        "\n",
        "    // CUDA time measurement\n",
        "    cudaEvent_t start, stop;\n",
        "    cudaEventCreate(&start);\n",
        "    cudaEventCreate(&stop);\n",
        "    cudaEventRecord(start);\n",
        "\n",
        "    // Launch kernel\n",
        "    dim3 threadsPerBlock(16, 16);\n",
        "    dim3 numBlocks((N + 15) / 16, (N + 15) / 16);\n",
        "    matrixMulCUDA<<<numBlocks, threadsPerBlock>>>(d_A, d_B, d_C, N);\n",
        "    cudaEventRecord(stop);\n",
        "\n",
        "    // Wait and calculate elapsed time\n",
        "    cudaEventSynchronize(stop);\n",
        "    float milliseconds = 0;\n",
        "    cudaEventElapsedTime(&milliseconds, start, stop);\n",
        "\n",
        "    // Copy result back to host\n",
        "    cudaMemcpy(h_C_gpu, d_C, bytes, cudaMemcpyDeviceToHost);\n",
        "    std::cout << \"GPU time: \" << milliseconds / 1000.0 << \" seconds\\n\";\n",
        "\n",
        "    // ----------- Verification ------------\n",
        "    bool correct = true;\n",
        "    for(int i = 0; i < N * N; ++i) {\n",
        "        if (abs(h_C_cpu[i] - h_C_gpu[i]) > 1e-3) {\n",
        "            correct = false;\n",
        "            std::cout << \"Mismatch at index \" << i << \": CPU=\" << h_C_cpu[i] << \", GPU=\" << h_C_gpu[i] << \"\\n\";\n",
        "            break;\n",
        "        }\n",
        "    }\n",
        "    std::cout << (correct ? \"Verification PASSED\\n\" : \"Verification FAILED\\n\");\n",
        "\n",
        "    // Cleanup\n",
        "    free(h_A); free(h_B); free(h_C_cpu); free(h_C_gpu);\n",
        "    cudaFree(d_A); cudaFree(d_B); cudaFree(d_C);\n",
        "\n",
        "    return 0;\n",
        "}\n",
        "\n"
      ],
      "metadata": {
        "colab": {
          "base_uri": "https://localhost:8080/"
        },
        "id": "gVyY5bxcwv7x",
        "outputId": "843d0843-b81f-4b12-911e-7b30727bc828"
      },
      "execution_count": null,
      "outputs": [
        {
          "output_type": "stream",
          "name": "stdout",
          "text": [
            "Overwriting matMult.cu\n"
          ]
        }
      ]
    },
    {
      "cell_type": "code",
      "source": [
        "!nvcc -arch=sm_75 matMult.cu -o hello"
      ],
      "metadata": {
        "id": "DK8TKS5qw0VX"
      },
      "execution_count": null,
      "outputs": []
    },
    {
      "cell_type": "code",
      "source": [
        "%%time\n",
        "!./hello"
      ],
      "metadata": {
        "colab": {
          "base_uri": "https://localhost:8080/"
        },
        "id": "As8tIfvex9oR",
        "outputId": "299de1e4-e2e5-4294-a6b7-05fa236e6205"
      },
      "execution_count": null,
      "outputs": [
        {
          "output_type": "stream",
          "name": "stdout",
          "text": [
            "Running CPU matrix multiplication...\n",
            "CPU time: 66.7878 seconds\n",
            "Running GPU matrix multiplication...\n",
            "GPU time: 0.0588552 seconds\n",
            "Verification PASSED\n",
            "CPU times: user 256 ms, sys: 47.2 ms, total: 304 ms\n",
            "Wall time: 1min 7s\n"
          ]
        }
      ]
    }
  ]
}